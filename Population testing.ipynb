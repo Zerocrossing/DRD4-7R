{
 "cells": [
  {
   "cell_type": "markdown",
   "metadata": {},
   "source": [
    "# Create toy population dataset"
   ]
  },
  {
   "cell_type": "code",
   "execution_count": 1,
   "metadata": {},
   "outputs": [],
   "source": [
    "import numpy as np"
   ]
  },
  {
   "cell_type": "code",
   "execution_count": 2,
   "metadata": {},
   "outputs": [],
   "source": [
    "pop_size = 12\n",
    "str_len = 10\n",
    "half_len = str_len//2"
   ]
  },
  {
   "cell_type": "code",
   "execution_count": 3,
   "metadata": {},
   "outputs": [
    {
     "data": {
      "text/plain": [
       "array([[0, 3, 1, 4, 5, 9, 7, 2, 8, 6],\n",
       "       [9, 5, 1, 8, 2, 0, 7, 3, 6, 4],\n",
       "       [3, 9, 0, 1, 7, 2, 6, 5, 8, 4],\n",
       "       [6, 7, 4, 5, 8, 3, 2, 1, 9, 0],\n",
       "       [9, 1, 3, 2, 8, 6, 7, 0, 4, 5],\n",
       "       [4, 0, 2, 3, 6, 7, 1, 8, 9, 5],\n",
       "       [2, 8, 1, 4, 5, 9, 0, 6, 3, 7],\n",
       "       [3, 0, 6, 9, 1, 4, 7, 5, 2, 8],\n",
       "       [4, 6, 1, 8, 2, 3, 5, 7, 0, 9],\n",
       "       [3, 9, 8, 1, 5, 7, 2, 0, 6, 4],\n",
       "       [2, 6, 1, 3, 7, 4, 8, 5, 9, 0],\n",
       "       [0, 2, 4, 8, 9, 7, 5, 1, 3, 6]])"
      ]
     },
     "execution_count": 3,
     "metadata": {},
     "output_type": "execute_result"
    }
   ],
   "source": [
    "pop = np.array([np.random.permutation(np.arange(0, str_len)) for n in np.arange(pop_size)])\n",
    "pop"
   ]
  },
  {
   "cell_type": "markdown",
   "metadata": {},
   "source": [
    "# Sequence Selection on a single parent array"
   ]
  },
  {
   "cell_type": "code",
   "execution_count": 4,
   "metadata": {},
   "outputs": [],
   "source": [
    "def vecArange(starts, delta):\n",
    "    return np.repeat(np.expand_dims(starts, 1), delta, axis=1)+np.arange(0, delta)"
   ]
  },
  {
   "cell_type": "code",
   "execution_count": 5,
   "metadata": {},
   "outputs": [
    {
     "data": {
      "text/plain": [
       "array([1, 3, 0, 1, 4, 4, 3, 0, 0, 3, 3, 3])"
      ]
     },
     "execution_count": 5,
     "metadata": {},
     "output_type": "execute_result"
    }
   ],
   "source": [
    "seq_start = np.random.randint(0,half_len,pop_size)\n",
    "seq_start"
   ]
  },
  {
   "cell_type": "code",
   "execution_count": 6,
   "metadata": {},
   "outputs": [
    {
     "data": {
      "text/plain": [
       "array([[0, 3, 1, 4, 5, 9, 7, 2, 8, 6],\n",
       "       [9, 5, 1, 8, 2, 0, 7, 3, 6, 4],\n",
       "       [3, 9, 0, 1, 7, 2, 6, 5, 8, 4],\n",
       "       [6, 7, 4, 5, 8, 3, 2, 1, 9, 0],\n",
       "       [9, 1, 3, 2, 8, 6, 7, 0, 4, 5],\n",
       "       [4, 0, 2, 3, 6, 7, 1, 8, 9, 5],\n",
       "       [2, 8, 1, 4, 5, 9, 0, 6, 3, 7],\n",
       "       [3, 0, 6, 9, 1, 4, 7, 5, 2, 8],\n",
       "       [4, 6, 1, 8, 2, 3, 5, 7, 0, 9],\n",
       "       [3, 9, 8, 1, 5, 7, 2, 0, 6, 4],\n",
       "       [2, 6, 1, 3, 7, 4, 8, 5, 9, 0],\n",
       "       [0, 2, 4, 8, 9, 7, 5, 1, 3, 6]])"
      ]
     },
     "execution_count": 6,
     "metadata": {},
     "output_type": "execute_result"
    }
   ],
   "source": [
    "pop"
   ]
  },
  {
   "cell_type": "code",
   "execution_count": 7,
   "metadata": {},
   "outputs": [
    {
     "data": {
      "text/plain": [
       "array([[1, 2, 3, 4, 5],\n",
       "       [3, 4, 5, 6, 7],\n",
       "       [0, 1, 2, 3, 4],\n",
       "       [1, 2, 3, 4, 5],\n",
       "       [4, 5, 6, 7, 8],\n",
       "       [4, 5, 6, 7, 8],\n",
       "       [3, 4, 5, 6, 7],\n",
       "       [0, 1, 2, 3, 4],\n",
       "       [0, 1, 2, 3, 4],\n",
       "       [3, 4, 5, 6, 7],\n",
       "       [3, 4, 5, 6, 7],\n",
       "       [3, 4, 5, 6, 7]])"
      ]
     },
     "execution_count": 7,
     "metadata": {},
     "output_type": "execute_result"
    }
   ],
   "source": [
    "seq = vecArange(seq_start,half_len)\n",
    "seq"
   ]
  },
  {
   "cell_type": "code",
   "execution_count": 8,
   "metadata": {
    "scrolled": false
   },
   "outputs": [
    {
     "data": {
      "text/plain": [
       "array([[3, 1, 4, 5, 9],\n",
       "       [8, 2, 0, 7, 3],\n",
       "       [3, 9, 0, 1, 7],\n",
       "       [7, 4, 5, 8, 3],\n",
       "       [8, 6, 7, 0, 4],\n",
       "       [6, 7, 1, 8, 9],\n",
       "       [4, 5, 9, 0, 6],\n",
       "       [3, 0, 6, 9, 1],\n",
       "       [4, 6, 1, 8, 2],\n",
       "       [1, 5, 7, 2, 0],\n",
       "       [3, 7, 4, 8, 5],\n",
       "       [8, 9, 7, 5, 1]])"
      ]
     },
     "execution_count": 8,
     "metadata": {},
     "output_type": "execute_result"
    }
   ],
   "source": [
    "subseq = pop[np.arange(pop.shape[0])[:, None], seq]\n",
    "subseq"
   ]
  },
  {
   "cell_type": "markdown",
   "metadata": {},
   "source": [
    "## Remove subsequences from other parents"
   ]
  },
  {
   "cell_type": "code",
   "execution_count": 9,
   "metadata": {
    "scrolled": true
   },
   "outputs": [
    {
     "data": {
      "text/plain": [
       "array([[0, 2, 4, 8, 9, 7, 5, 1, 3, 6],\n",
       "       [0, 3, 1, 4, 5, 9, 7, 2, 8, 6],\n",
       "       [9, 5, 1, 8, 2, 0, 7, 3, 6, 4],\n",
       "       [3, 9, 0, 1, 7, 2, 6, 5, 8, 4],\n",
       "       [6, 7, 4, 5, 8, 3, 2, 1, 9, 0],\n",
       "       [9, 1, 3, 2, 8, 6, 7, 0, 4, 5],\n",
       "       [4, 0, 2, 3, 6, 7, 1, 8, 9, 5],\n",
       "       [2, 8, 1, 4, 5, 9, 0, 6, 3, 7],\n",
       "       [3, 0, 6, 9, 1, 4, 7, 5, 2, 8],\n",
       "       [4, 6, 1, 8, 2, 3, 5, 7, 0, 9],\n",
       "       [3, 9, 8, 1, 5, 7, 2, 0, 6, 4],\n",
       "       [2, 6, 1, 3, 7, 4, 8, 5, 9, 0]])"
      ]
     },
     "execution_count": 9,
     "metadata": {},
     "output_type": "execute_result"
    }
   ],
   "source": [
    "pop_roll = np.roll(pop,1,axis=0)\n",
    "pop_roll"
   ]
  },
  {
   "cell_type": "code",
   "execution_count": 31,
   "metadata": {},
   "outputs": [
    {
     "name": "stdout",
     "output_type": "stream",
     "text": [
      "[9 5 1 8 2 0 7 3 6 4]\n",
      "[8 2 0 1 4 5 9 6 7 3]\n"
     ]
    }
   ],
   "source": [
    "children = np.empty((pop.shape[0],str_len),int)\n",
    "for n, seq in enumerate(subseq):\n",
    "    child = pop_roll[n][np.isin(pop_roll[n],seq,invert=True)]\n",
    "    child = np.insert(seq,seq_start[n],child)\n",
    "    children[n] = child\n",
    "print(pop[1])\n",
    "# print(pop_roll[1])\n",
    "print(children[1])"
   ]
  },
  {
   "cell_type": "markdown",
   "metadata": {},
   "source": [
    "# Sequence Selection with combined parent arrays"
   ]
  },
  {
   "cell_type": "code",
   "execution_count": 111,
   "metadata": {},
   "outputs": [
    {
     "data": {
      "text/plain": [
       "array([[[0, 4, 2, 1, 6, 7, 8, 3, 5, 9],\n",
       "        [6, 3, 0, 9, 5, 8, 1, 2, 4, 7]],\n",
       "\n",
       "       [[9, 0, 1, 8, 4, 6, 7, 2, 5, 3],\n",
       "        [0, 4, 2, 1, 6, 7, 8, 3, 5, 9]],\n",
       "\n",
       "       [[6, 3, 1, 5, 8, 7, 4, 9, 2, 0],\n",
       "        [9, 0, 1, 8, 4, 6, 7, 2, 5, 3]],\n",
       "\n",
       "       [[8, 9, 4, 5, 3, 0, 7, 2, 6, 1],\n",
       "        [6, 3, 1, 5, 8, 7, 4, 9, 2, 0]],\n",
       "\n",
       "       [[8, 3, 7, 0, 1, 9, 6, 4, 2, 5],\n",
       "        [8, 9, 4, 5, 3, 0, 7, 2, 6, 1]],\n",
       "\n",
       "       [[6, 1, 3, 2, 5, 7, 8, 9, 4, 0],\n",
       "        [8, 3, 7, 0, 1, 9, 6, 4, 2, 5]],\n",
       "\n",
       "       [[6, 4, 8, 7, 2, 5, 0, 9, 1, 3],\n",
       "        [6, 1, 3, 2, 5, 7, 8, 9, 4, 0]],\n",
       "\n",
       "       [[4, 2, 1, 6, 7, 8, 5, 3, 9, 0],\n",
       "        [6, 4, 8, 7, 2, 5, 0, 9, 1, 3]],\n",
       "\n",
       "       [[9, 1, 7, 0, 4, 2, 3, 5, 8, 6],\n",
       "        [4, 2, 1, 6, 7, 8, 5, 3, 9, 0]],\n",
       "\n",
       "       [[3, 8, 5, 0, 7, 2, 9, 6, 1, 4],\n",
       "        [9, 1, 7, 0, 4, 2, 3, 5, 8, 6]],\n",
       "\n",
       "       [[1, 7, 4, 5, 6, 0, 9, 3, 8, 2],\n",
       "        [3, 8, 5, 0, 7, 2, 9, 6, 1, 4]],\n",
       "\n",
       "       [[6, 3, 0, 9, 5, 8, 1, 2, 4, 7],\n",
       "        [1, 7, 4, 5, 6, 0, 9, 3, 8, 2]]])"
      ]
     },
     "execution_count": 111,
     "metadata": {},
     "output_type": "execute_result"
    }
   ],
   "source": [
    "parents = np.concatenate((pop,pop_roll),axis=1).reshape(-1,2,str_len)\n",
    "parents"
   ]
  },
  {
   "cell_type": "code",
   "execution_count": 153,
   "metadata": {},
   "outputs": [
    {
     "data": {
      "text/plain": [
       "array([[[0, 4, 2, 1, 6, 7, 8, 3, 5, 9],\n",
       "        [6, 3, 0, 9, 5, 8, 1, 2, 4, 7]],\n",
       "\n",
       "       [[9, 0, 1, 8, 4, 6, 7, 2, 5, 3],\n",
       "        [0, 4, 2, 1, 6, 7, 8, 3, 5, 9]],\n",
       "\n",
       "       [[6, 3, 1, 5, 8, 7, 4, 9, 2, 0],\n",
       "        [9, 0, 1, 8, 4, 6, 7, 2, 5, 3]],\n",
       "\n",
       "       [[8, 9, 4, 5, 3, 0, 7, 2, 6, 1],\n",
       "        [6, 3, 1, 5, 8, 7, 4, 9, 2, 0]],\n",
       "\n",
       "       [[8, 3, 7, 0, 1, 9, 6, 4, 2, 5],\n",
       "        [8, 9, 4, 5, 3, 0, 7, 2, 6, 1]],\n",
       "\n",
       "       [[6, 1, 3, 2, 5, 7, 8, 9, 4, 0],\n",
       "        [8, 3, 7, 0, 1, 9, 6, 4, 2, 5]],\n",
       "\n",
       "       [[6, 4, 8, 7, 2, 5, 0, 9, 1, 3],\n",
       "        [6, 1, 3, 2, 5, 7, 8, 9, 4, 0]],\n",
       "\n",
       "       [[4, 2, 1, 6, 7, 8, 5, 3, 9, 0],\n",
       "        [6, 4, 8, 7, 2, 5, 0, 9, 1, 3]],\n",
       "\n",
       "       [[9, 1, 7, 0, 4, 2, 3, 5, 8, 6],\n",
       "        [4, 2, 1, 6, 7, 8, 5, 3, 9, 0]],\n",
       "\n",
       "       [[3, 8, 5, 0, 7, 2, 9, 6, 1, 4],\n",
       "        [9, 1, 7, 0, 4, 2, 3, 5, 8, 6]],\n",
       "\n",
       "       [[1, 7, 4, 5, 6, 0, 9, 3, 8, 2],\n",
       "        [3, 8, 5, 0, 7, 2, 9, 6, 1, 4]],\n",
       "\n",
       "       [[6, 3, 0, 9, 5, 8, 1, 2, 4, 7],\n",
       "        [1, 7, 4, 5, 6, 0, 9, 3, 8, 2]]])"
      ]
     },
     "execution_count": 153,
     "metadata": {},
     "output_type": "execute_result"
    }
   ],
   "source": [
    "parents"
   ]
  },
  {
   "cell_type": "code",
   "execution_count": 154,
   "metadata": {},
   "outputs": [
    {
     "data": {
      "text/plain": [
       "array([3, 3, 4, 4, 2, 2, 3, 3, 4, 4, 3, 3, 3, 3, 0, 0, 2, 2, 4, 4, 2, 2,\n",
       "       0, 0])"
      ]
     },
     "execution_count": 154,
     "metadata": {},
     "output_type": "execute_result"
    }
   ],
   "source": [
    "seq_start = np.random.randint(0,half_len,pop_size).repeat(2) #repeat is so pairs of parents have same subseq\n",
    "seq_start"
   ]
  },
  {
   "cell_type": "code",
   "execution_count": 172,
   "metadata": {},
   "outputs": [
    {
     "data": {
      "text/plain": [
       "array([[[3, 4, 5, 6, 7],\n",
       "        [3, 4, 5, 6, 7]],\n",
       "\n",
       "       [[4, 5, 6, 7, 8],\n",
       "        [4, 5, 6, 7, 8]],\n",
       "\n",
       "       [[2, 3, 4, 5, 6],\n",
       "        [2, 3, 4, 5, 6]],\n",
       "\n",
       "       [[3, 4, 5, 6, 7],\n",
       "        [3, 4, 5, 6, 7]],\n",
       "\n",
       "       [[4, 5, 6, 7, 8],\n",
       "        [4, 5, 6, 7, 8]],\n",
       "\n",
       "       [[3, 4, 5, 6, 7],\n",
       "        [3, 4, 5, 6, 7]],\n",
       "\n",
       "       [[3, 4, 5, 6, 7],\n",
       "        [3, 4, 5, 6, 7]],\n",
       "\n",
       "       [[0, 1, 2, 3, 4],\n",
       "        [0, 1, 2, 3, 4]],\n",
       "\n",
       "       [[2, 3, 4, 5, 6],\n",
       "        [2, 3, 4, 5, 6]],\n",
       "\n",
       "       [[4, 5, 6, 7, 8],\n",
       "        [4, 5, 6, 7, 8]],\n",
       "\n",
       "       [[2, 3, 4, 5, 6],\n",
       "        [2, 3, 4, 5, 6]],\n",
       "\n",
       "       [[0, 1, 2, 3, 4],\n",
       "        [0, 1, 2, 3, 4]]])"
      ]
     },
     "execution_count": 172,
     "metadata": {},
     "output_type": "execute_result"
    }
   ],
   "source": [
    "parent_seq = vecArange(seq_start,half_len).reshape(-1,2,half_len)\n",
    "parent_seq"
   ]
  },
  {
   "cell_type": "code",
   "execution_count": 196,
   "metadata": {},
   "outputs": [
    {
     "ename": "IndexError",
     "evalue": "shape mismatch: indexing arrays could not be broadcast together with shapes (12,1) (12,2,5) ",
     "output_type": "error",
     "traceback": [
      "\u001b[1;31m---------------------------------------------------------------------------\u001b[0m",
      "\u001b[1;31mIndexError\u001b[0m                                Traceback (most recent call last)",
      "\u001b[1;32m<ipython-input-196-5eb44922d852>\u001b[0m in \u001b[0;36m<module>\u001b[1;34m()\u001b[0m\n\u001b[1;32m----> 1\u001b[1;33m \u001b[0mparents\u001b[0m\u001b[1;33m[\u001b[0m\u001b[0mnp\u001b[0m\u001b[1;33m.\u001b[0m\u001b[0marange\u001b[0m\u001b[1;33m(\u001b[0m\u001b[0mparents\u001b[0m\u001b[1;33m.\u001b[0m\u001b[0mshape\u001b[0m\u001b[1;33m[\u001b[0m\u001b[1;36m0\u001b[0m\u001b[1;33m]\u001b[0m\u001b[1;33m)\u001b[0m\u001b[1;33m[\u001b[0m\u001b[1;33m:\u001b[0m\u001b[1;33m,\u001b[0m \u001b[1;32mNone\u001b[0m\u001b[1;33m]\u001b[0m\u001b[1;33m,\u001b[0m \u001b[0mparent_seq\u001b[0m\u001b[1;33m]\u001b[0m\u001b[1;33m\u001b[0m\u001b[0m\n\u001b[0m",
      "\u001b[1;31mIndexError\u001b[0m: shape mismatch: indexing arrays could not be broadcast together with shapes (12,1) (12,2,5) "
     ]
    }
   ],
   "source": [
    "parents[np.arange(parents.shape[0])[:, None], parent_seq]"
   ]
  },
  {
   "cell_type": "code",
   "execution_count": null,
   "metadata": {},
   "outputs": [],
   "source": []
  }
 ],
 "metadata": {
  "kernelspec": {
   "display_name": "Python 3",
   "language": "python",
   "name": "python3"
  },
  "language_info": {
   "codemirror_mode": {
    "name": "ipython",
    "version": 3
   },
   "file_extension": ".py",
   "mimetype": "text/x-python",
   "name": "python",
   "nbconvert_exporter": "python",
   "pygments_lexer": "ipython3",
   "version": "3.6.4"
  }
 },
 "nbformat": 4,
 "nbformat_minor": 2
}
