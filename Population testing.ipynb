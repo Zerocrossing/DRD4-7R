{
 "cells": [
  {
   "cell_type": "markdown",
   "metadata": {},
   "source": [
    "# Create toy population dataset"
   ]
  },
  {
   "cell_type": "code",
   "execution_count": 181,
   "metadata": {},
   "outputs": [],
   "source": [
    "import numpy as np"
   ]
  },
  {
   "cell_type": "code",
   "execution_count": 182,
   "metadata": {},
   "outputs": [],
   "source": [
    "pop_size = 12\n",
    "str_len = 10\n",
    "half_len = str_len//2"
   ]
  },
  {
   "cell_type": "code",
   "execution_count": 199,
   "metadata": {},
   "outputs": [
    {
     "data": {
      "text/plain": [
       "array([[7, 1, 9, 0, 6, 3, 8, 5, 4, 2],\n",
       "       [1, 2, 0, 3, 8, 5, 9, 4, 6, 7],\n",
       "       [6, 5, 0, 9, 2, 8, 3, 4, 1, 7],\n",
       "       [8, 2, 0, 9, 3, 1, 5, 4, 6, 7],\n",
       "       [3, 9, 1, 4, 5, 6, 0, 7, 2, 8],\n",
       "       [2, 8, 1, 0, 4, 7, 9, 5, 6, 3],\n",
       "       [3, 9, 2, 4, 1, 5, 6, 8, 0, 7],\n",
       "       [5, 1, 8, 2, 6, 7, 4, 0, 9, 3],\n",
       "       [1, 3, 8, 7, 5, 0, 2, 9, 6, 4],\n",
       "       [8, 4, 3, 5, 1, 7, 2, 9, 6, 0],\n",
       "       [8, 2, 9, 4, 3, 6, 1, 7, 0, 5],\n",
       "       [6, 5, 8, 3, 9, 7, 0, 1, 2, 4]])"
      ]
     },
     "execution_count": 199,
     "metadata": {},
     "output_type": "execute_result"
    }
   ],
   "source": [
    "pop = np.array([np.random.permutation(np.arange(0, str_len)) for n in np.arange(pop_size)])\n",
    "pop"
   ]
  },
  {
   "cell_type": "markdown",
   "metadata": {},
   "source": [
    "# Sequence Selection on a single parent array"
   ]
  },
  {
   "cell_type": "code",
   "execution_count": 200,
   "metadata": {},
   "outputs": [],
   "source": [
    "def vecArange(starts, delta):\n",
    "    return np.repeat(np.expand_dims(starts, 1), delta, axis=1)+np.arange(0, delta)"
   ]
  },
  {
   "cell_type": "code",
   "execution_count": 201,
   "metadata": {},
   "outputs": [
    {
     "data": {
      "text/plain": [
       "array([0, 3, 2, 3, 4, 3, 0, 3, 4, 2, 3, 0])"
      ]
     },
     "execution_count": 201,
     "metadata": {},
     "output_type": "execute_result"
    }
   ],
   "source": [
    "seq_start = np.random.randint(0,half_len,pop_size)\n",
    "seq_start"
   ]
  },
  {
   "cell_type": "code",
   "execution_count": 202,
   "metadata": {},
   "outputs": [
    {
     "data": {
      "text/plain": [
       "array([[7, 1, 9, 0, 6, 3, 8, 5, 4, 2],\n",
       "       [1, 2, 0, 3, 8, 5, 9, 4, 6, 7],\n",
       "       [6, 5, 0, 9, 2, 8, 3, 4, 1, 7],\n",
       "       [8, 2, 0, 9, 3, 1, 5, 4, 6, 7],\n",
       "       [3, 9, 1, 4, 5, 6, 0, 7, 2, 8],\n",
       "       [2, 8, 1, 0, 4, 7, 9, 5, 6, 3],\n",
       "       [3, 9, 2, 4, 1, 5, 6, 8, 0, 7],\n",
       "       [5, 1, 8, 2, 6, 7, 4, 0, 9, 3],\n",
       "       [1, 3, 8, 7, 5, 0, 2, 9, 6, 4],\n",
       "       [8, 4, 3, 5, 1, 7, 2, 9, 6, 0],\n",
       "       [8, 2, 9, 4, 3, 6, 1, 7, 0, 5],\n",
       "       [6, 5, 8, 3, 9, 7, 0, 1, 2, 4]])"
      ]
     },
     "execution_count": 202,
     "metadata": {},
     "output_type": "execute_result"
    }
   ],
   "source": [
    "pop"
   ]
  },
  {
   "cell_type": "code",
   "execution_count": 203,
   "metadata": {},
   "outputs": [
    {
     "data": {
      "text/plain": [
       "array([[0, 1, 2, 3, 4],\n",
       "       [3, 4, 5, 6, 7],\n",
       "       [2, 3, 4, 5, 6],\n",
       "       [3, 4, 5, 6, 7],\n",
       "       [4, 5, 6, 7, 8],\n",
       "       [3, 4, 5, 6, 7],\n",
       "       [0, 1, 2, 3, 4],\n",
       "       [3, 4, 5, 6, 7],\n",
       "       [4, 5, 6, 7, 8],\n",
       "       [2, 3, 4, 5, 6],\n",
       "       [3, 4, 5, 6, 7],\n",
       "       [0, 1, 2, 3, 4]])"
      ]
     },
     "execution_count": 203,
     "metadata": {},
     "output_type": "execute_result"
    }
   ],
   "source": [
    "seq = vecArange(seq_start,half_len)\n",
    "seq"
   ]
  },
  {
   "cell_type": "code",
   "execution_count": 206,
   "metadata": {
    "scrolled": false
   },
   "outputs": [
    {
     "data": {
      "text/plain": [
       "array([[7, 1, 9, 0, 6],\n",
       "       [3, 8, 5, 9, 4],\n",
       "       [0, 9, 2, 8, 3],\n",
       "       [9, 3, 1, 5, 4],\n",
       "       [5, 6, 0, 7, 2],\n",
       "       [0, 4, 7, 9, 5],\n",
       "       [3, 9, 2, 4, 1],\n",
       "       [2, 6, 7, 4, 0],\n",
       "       [5, 0, 2, 9, 6],\n",
       "       [3, 5, 1, 7, 2],\n",
       "       [4, 3, 6, 1, 7],\n",
       "       [6, 5, 8, 3, 9]])"
      ]
     },
     "execution_count": 206,
     "metadata": {},
     "output_type": "execute_result"
    }
   ],
   "source": [
    "subseq = pop[np.arange(pop.shape[0])[:, None], seq]\n",
    "subseq"
   ]
  },
  {
   "cell_type": "markdown",
   "metadata": {},
   "source": [
    "## Remove subsequences from other parents"
   ]
  },
  {
   "cell_type": "code",
   "execution_count": 262,
   "metadata": {
    "scrolled": true
   },
   "outputs": [
    {
     "data": {
      "text/plain": [
       "array([[6, 5, 8, 3, 9, 7, 0, 1, 2, 4],\n",
       "       [7, 1, 9, 0, 6, 3, 8, 5, 4, 2],\n",
       "       [1, 2, 0, 3, 8, 5, 9, 4, 6, 7],\n",
       "       [6, 5, 0, 9, 2, 8, 3, 4, 1, 7],\n",
       "       [8, 2, 0, 9, 3, 1, 5, 4, 6, 7],\n",
       "       [3, 9, 1, 4, 5, 6, 0, 7, 2, 8],\n",
       "       [2, 8, 1, 0, 4, 7, 9, 5, 6, 3],\n",
       "       [3, 9, 2, 4, 1, 5, 6, 8, 0, 7],\n",
       "       [5, 1, 8, 2, 6, 7, 4, 0, 9, 3],\n",
       "       [1, 3, 8, 7, 5, 0, 2, 9, 6, 4],\n",
       "       [8, 4, 3, 5, 1, 7, 2, 9, 6, 0],\n",
       "       [8, 2, 9, 4, 3, 6, 1, 7, 0, 5]])"
      ]
     },
     "execution_count": 262,
     "metadata": {},
     "output_type": "execute_result"
    }
   ],
   "source": [
    "pop_roll = np.roll(pop,1,axis=0)\n",
    "pop_roll"
   ]
  },
  {
   "cell_type": "code",
   "execution_count": 263,
   "metadata": {},
   "outputs": [
    {
     "ename": "IndexError",
     "evalue": "too many indices for array",
     "output_type": "error",
     "traceback": [
      "\u001b[1;31m---------------------------------------------------------------------------\u001b[0m",
      "\u001b[1;31mIndexError\u001b[0m                                Traceback (most recent call last)",
      "\u001b[1;32m<ipython-input-263-ba4f434f0d7c>\u001b[0m in \u001b[0;36m<module>\u001b[1;34m()\u001b[0m\n\u001b[0;32m      1\u001b[0m \u001b[1;32mfor\u001b[0m \u001b[0mn\u001b[0m\u001b[1;33m,\u001b[0m \u001b[0mchild\u001b[0m \u001b[1;32min\u001b[0m \u001b[0menumerate\u001b[0m\u001b[1;33m(\u001b[0m\u001b[0msubseq\u001b[0m\u001b[1;33m)\u001b[0m\u001b[1;33m:\u001b[0m\u001b[1;33m\u001b[0m\u001b[0m\n\u001b[1;32m----> 2\u001b[1;33m     \u001b[0mprint\u001b[0m\u001b[1;33m(\u001b[0m\u001b[0mpop_roll\u001b[0m\u001b[1;33m[\u001b[0m\u001b[0mn\u001b[0m\u001b[1;33m,\u001b[0m\u001b[0mnp\u001b[0m\u001b[1;33m.\u001b[0m\u001b[0misin\u001b[0m\u001b[1;33m(\u001b[0m\u001b[0mpop_roll\u001b[0m\u001b[1;33m,\u001b[0m\u001b[0mchild\u001b[0m\u001b[1;33m,\u001b[0m\u001b[0minvert\u001b[0m\u001b[1;33m=\u001b[0m\u001b[1;32mTrue\u001b[0m\u001b[1;33m)\u001b[0m\u001b[1;33m]\u001b[0m\u001b[1;33m)\u001b[0m\u001b[1;33m\u001b[0m\u001b[0m\n\u001b[0m",
      "\u001b[1;31mIndexError\u001b[0m: too many indices for array"
     ]
    }
   ],
   "source": [
    "for n, child in enumerate(subseq):\n",
    "    print(pop_roll[n,np.isin(pop_roll,child,invert=True)])"
   ]
  },
  {
   "cell_type": "markdown",
   "metadata": {},
   "source": [
    "# Sequence Selection with combined parent arrays"
   ]
  },
  {
   "cell_type": "code",
   "execution_count": 111,
   "metadata": {},
   "outputs": [
    {
     "data": {
      "text/plain": [
       "array([[[0, 4, 2, 1, 6, 7, 8, 3, 5, 9],\n",
       "        [6, 3, 0, 9, 5, 8, 1, 2, 4, 7]],\n",
       "\n",
       "       [[9, 0, 1, 8, 4, 6, 7, 2, 5, 3],\n",
       "        [0, 4, 2, 1, 6, 7, 8, 3, 5, 9]],\n",
       "\n",
       "       [[6, 3, 1, 5, 8, 7, 4, 9, 2, 0],\n",
       "        [9, 0, 1, 8, 4, 6, 7, 2, 5, 3]],\n",
       "\n",
       "       [[8, 9, 4, 5, 3, 0, 7, 2, 6, 1],\n",
       "        [6, 3, 1, 5, 8, 7, 4, 9, 2, 0]],\n",
       "\n",
       "       [[8, 3, 7, 0, 1, 9, 6, 4, 2, 5],\n",
       "        [8, 9, 4, 5, 3, 0, 7, 2, 6, 1]],\n",
       "\n",
       "       [[6, 1, 3, 2, 5, 7, 8, 9, 4, 0],\n",
       "        [8, 3, 7, 0, 1, 9, 6, 4, 2, 5]],\n",
       "\n",
       "       [[6, 4, 8, 7, 2, 5, 0, 9, 1, 3],\n",
       "        [6, 1, 3, 2, 5, 7, 8, 9, 4, 0]],\n",
       "\n",
       "       [[4, 2, 1, 6, 7, 8, 5, 3, 9, 0],\n",
       "        [6, 4, 8, 7, 2, 5, 0, 9, 1, 3]],\n",
       "\n",
       "       [[9, 1, 7, 0, 4, 2, 3, 5, 8, 6],\n",
       "        [4, 2, 1, 6, 7, 8, 5, 3, 9, 0]],\n",
       "\n",
       "       [[3, 8, 5, 0, 7, 2, 9, 6, 1, 4],\n",
       "        [9, 1, 7, 0, 4, 2, 3, 5, 8, 6]],\n",
       "\n",
       "       [[1, 7, 4, 5, 6, 0, 9, 3, 8, 2],\n",
       "        [3, 8, 5, 0, 7, 2, 9, 6, 1, 4]],\n",
       "\n",
       "       [[6, 3, 0, 9, 5, 8, 1, 2, 4, 7],\n",
       "        [1, 7, 4, 5, 6, 0, 9, 3, 8, 2]]])"
      ]
     },
     "execution_count": 111,
     "metadata": {},
     "output_type": "execute_result"
    }
   ],
   "source": [
    "parents = np.concatenate((pop,pop_roll),axis=1).reshape(-1,2,str_len)\n",
    "parents"
   ]
  },
  {
   "cell_type": "code",
   "execution_count": 153,
   "metadata": {},
   "outputs": [
    {
     "data": {
      "text/plain": [
       "array([[[0, 4, 2, 1, 6, 7, 8, 3, 5, 9],\n",
       "        [6, 3, 0, 9, 5, 8, 1, 2, 4, 7]],\n",
       "\n",
       "       [[9, 0, 1, 8, 4, 6, 7, 2, 5, 3],\n",
       "        [0, 4, 2, 1, 6, 7, 8, 3, 5, 9]],\n",
       "\n",
       "       [[6, 3, 1, 5, 8, 7, 4, 9, 2, 0],\n",
       "        [9, 0, 1, 8, 4, 6, 7, 2, 5, 3]],\n",
       "\n",
       "       [[8, 9, 4, 5, 3, 0, 7, 2, 6, 1],\n",
       "        [6, 3, 1, 5, 8, 7, 4, 9, 2, 0]],\n",
       "\n",
       "       [[8, 3, 7, 0, 1, 9, 6, 4, 2, 5],\n",
       "        [8, 9, 4, 5, 3, 0, 7, 2, 6, 1]],\n",
       "\n",
       "       [[6, 1, 3, 2, 5, 7, 8, 9, 4, 0],\n",
       "        [8, 3, 7, 0, 1, 9, 6, 4, 2, 5]],\n",
       "\n",
       "       [[6, 4, 8, 7, 2, 5, 0, 9, 1, 3],\n",
       "        [6, 1, 3, 2, 5, 7, 8, 9, 4, 0]],\n",
       "\n",
       "       [[4, 2, 1, 6, 7, 8, 5, 3, 9, 0],\n",
       "        [6, 4, 8, 7, 2, 5, 0, 9, 1, 3]],\n",
       "\n",
       "       [[9, 1, 7, 0, 4, 2, 3, 5, 8, 6],\n",
       "        [4, 2, 1, 6, 7, 8, 5, 3, 9, 0]],\n",
       "\n",
       "       [[3, 8, 5, 0, 7, 2, 9, 6, 1, 4],\n",
       "        [9, 1, 7, 0, 4, 2, 3, 5, 8, 6]],\n",
       "\n",
       "       [[1, 7, 4, 5, 6, 0, 9, 3, 8, 2],\n",
       "        [3, 8, 5, 0, 7, 2, 9, 6, 1, 4]],\n",
       "\n",
       "       [[6, 3, 0, 9, 5, 8, 1, 2, 4, 7],\n",
       "        [1, 7, 4, 5, 6, 0, 9, 3, 8, 2]]])"
      ]
     },
     "execution_count": 153,
     "metadata": {},
     "output_type": "execute_result"
    }
   ],
   "source": [
    "parents"
   ]
  },
  {
   "cell_type": "code",
   "execution_count": 154,
   "metadata": {},
   "outputs": [
    {
     "data": {
      "text/plain": [
       "array([3, 3, 4, 4, 2, 2, 3, 3, 4, 4, 3, 3, 3, 3, 0, 0, 2, 2, 4, 4, 2, 2,\n",
       "       0, 0])"
      ]
     },
     "execution_count": 154,
     "metadata": {},
     "output_type": "execute_result"
    }
   ],
   "source": [
    "seq_start = np.random.randint(0,half_len,pop_size).repeat(2) #repeat is so pairs of parents have same subseq\n",
    "seq_start"
   ]
  },
  {
   "cell_type": "code",
   "execution_count": 172,
   "metadata": {},
   "outputs": [
    {
     "data": {
      "text/plain": [
       "array([[[3, 4, 5, 6, 7],\n",
       "        [3, 4, 5, 6, 7]],\n",
       "\n",
       "       [[4, 5, 6, 7, 8],\n",
       "        [4, 5, 6, 7, 8]],\n",
       "\n",
       "       [[2, 3, 4, 5, 6],\n",
       "        [2, 3, 4, 5, 6]],\n",
       "\n",
       "       [[3, 4, 5, 6, 7],\n",
       "        [3, 4, 5, 6, 7]],\n",
       "\n",
       "       [[4, 5, 6, 7, 8],\n",
       "        [4, 5, 6, 7, 8]],\n",
       "\n",
       "       [[3, 4, 5, 6, 7],\n",
       "        [3, 4, 5, 6, 7]],\n",
       "\n",
       "       [[3, 4, 5, 6, 7],\n",
       "        [3, 4, 5, 6, 7]],\n",
       "\n",
       "       [[0, 1, 2, 3, 4],\n",
       "        [0, 1, 2, 3, 4]],\n",
       "\n",
       "       [[2, 3, 4, 5, 6],\n",
       "        [2, 3, 4, 5, 6]],\n",
       "\n",
       "       [[4, 5, 6, 7, 8],\n",
       "        [4, 5, 6, 7, 8]],\n",
       "\n",
       "       [[2, 3, 4, 5, 6],\n",
       "        [2, 3, 4, 5, 6]],\n",
       "\n",
       "       [[0, 1, 2, 3, 4],\n",
       "        [0, 1, 2, 3, 4]]])"
      ]
     },
     "execution_count": 172,
     "metadata": {},
     "output_type": "execute_result"
    }
   ],
   "source": [
    "parent_seq = vecArange(seq_start,half_len).reshape(-1,2,half_len)\n",
    "parent_seq"
   ]
  },
  {
   "cell_type": "code",
   "execution_count": 196,
   "metadata": {},
   "outputs": [
    {
     "ename": "IndexError",
     "evalue": "shape mismatch: indexing arrays could not be broadcast together with shapes (12,1) (12,2,5) ",
     "output_type": "error",
     "traceback": [
      "\u001b[1;31m---------------------------------------------------------------------------\u001b[0m",
      "\u001b[1;31mIndexError\u001b[0m                                Traceback (most recent call last)",
      "\u001b[1;32m<ipython-input-196-5eb44922d852>\u001b[0m in \u001b[0;36m<module>\u001b[1;34m()\u001b[0m\n\u001b[1;32m----> 1\u001b[1;33m \u001b[0mparents\u001b[0m\u001b[1;33m[\u001b[0m\u001b[0mnp\u001b[0m\u001b[1;33m.\u001b[0m\u001b[0marange\u001b[0m\u001b[1;33m(\u001b[0m\u001b[0mparents\u001b[0m\u001b[1;33m.\u001b[0m\u001b[0mshape\u001b[0m\u001b[1;33m[\u001b[0m\u001b[1;36m0\u001b[0m\u001b[1;33m]\u001b[0m\u001b[1;33m)\u001b[0m\u001b[1;33m[\u001b[0m\u001b[1;33m:\u001b[0m\u001b[1;33m,\u001b[0m \u001b[1;32mNone\u001b[0m\u001b[1;33m]\u001b[0m\u001b[1;33m,\u001b[0m \u001b[0mparent_seq\u001b[0m\u001b[1;33m]\u001b[0m\u001b[1;33m\u001b[0m\u001b[0m\n\u001b[0m",
      "\u001b[1;31mIndexError\u001b[0m: shape mismatch: indexing arrays could not be broadcast together with shapes (12,1) (12,2,5) "
     ]
    }
   ],
   "source": [
    "parents[np.arange(parents.shape[0])[:, None], parent_seq]"
   ]
  },
  {
   "cell_type": "code",
   "execution_count": null,
   "metadata": {},
   "outputs": [],
   "source": []
  }
 ],
 "metadata": {
  "kernelspec": {
   "display_name": "Python 3",
   "language": "python",
   "name": "python3"
  },
  "language_info": {
   "codemirror_mode": {
    "name": "ipython",
    "version": 3
   },
   "file_extension": ".py",
   "mimetype": "text/x-python",
   "name": "python",
   "nbconvert_exporter": "python",
   "pygments_lexer": "ipython3",
   "version": "3.6.5"
  }
 },
 "nbformat": 4,
 "nbformat_minor": 2
}
