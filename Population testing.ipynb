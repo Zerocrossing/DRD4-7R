{
 "cells": [
  {
   "cell_type": "markdown",
   "metadata": {},
   "source": [
    "# Create toy population dataset"
   ]
  },
  {
   "cell_type": "code",
   "execution_count": 23,
   "metadata": {},
   "outputs": [],
   "source": [
    "import numpy as np\n",
    "import numba as nb\n",
    "from numba import njit, prange"
   ]
  },
  {
   "cell_type": "code",
   "execution_count": 2,
   "metadata": {},
   "outputs": [],
   "source": [
    "pop_size = 12\n",
    "str_len = 10\n",
    "half_len = str_len//2"
   ]
  },
  {
   "cell_type": "code",
   "execution_count": 3,
   "metadata": {},
   "outputs": [
    {
     "data": {
      "text/plain": [
       "array([[8, 9, 0, 5, 3, 1, 7, 4, 2, 6],\n",
       "       [2, 4, 7, 5, 6, 3, 8, 1, 9, 0],\n",
       "       [5, 6, 7, 0, 4, 2, 1, 8, 3, 9],\n",
       "       [4, 0, 7, 9, 5, 6, 1, 2, 3, 8],\n",
       "       [8, 5, 7, 3, 0, 2, 9, 1, 6, 4],\n",
       "       [0, 3, 4, 1, 2, 5, 8, 6, 7, 9],\n",
       "       [8, 9, 0, 1, 2, 7, 5, 6, 3, 4],\n",
       "       [2, 6, 7, 9, 4, 0, 8, 3, 5, 1],\n",
       "       [5, 0, 4, 7, 3, 1, 9, 2, 6, 8],\n",
       "       [9, 7, 6, 8, 2, 4, 3, 5, 1, 0],\n",
       "       [4, 9, 5, 1, 8, 0, 6, 7, 2, 3],\n",
       "       [2, 3, 6, 1, 0, 4, 8, 5, 9, 7]])"
      ]
     },
     "execution_count": 3,
     "metadata": {},
     "output_type": "execute_result"
    }
   ],
   "source": [
    "pop = np.array([np.random.permutation(np.arange(0, str_len)) for n in np.arange(pop_size)])\n",
    "pop"
   ]
  },
  {
   "cell_type": "markdown",
   "metadata": {},
   "source": [
    "# Sequence Selection on a single parent array"
   ]
  },
  {
   "cell_type": "code",
   "execution_count": 4,
   "metadata": {},
   "outputs": [],
   "source": [
    "def vecArange(starts, delta):\n",
    "    return np.repeat(np.expand_dims(starts, 1), delta, axis=1)+np.arange(0, delta)"
   ]
  },
  {
   "cell_type": "code",
   "execution_count": 5,
   "metadata": {},
   "outputs": [
    {
     "data": {
      "text/plain": [
       "array([0, 0, 4, 1, 3, 4, 4, 4, 0, 0, 0, 0])"
      ]
     },
     "execution_count": 5,
     "metadata": {},
     "output_type": "execute_result"
    }
   ],
   "source": [
    "seq_start = np.random.randint(0,half_len,pop_size)\n",
    "seq_start"
   ]
  },
  {
   "cell_type": "code",
   "execution_count": 6,
   "metadata": {},
   "outputs": [
    {
     "data": {
      "text/plain": [
       "array([[8, 9, 0, 5, 3, 1, 7, 4, 2, 6],\n",
       "       [2, 4, 7, 5, 6, 3, 8, 1, 9, 0],\n",
       "       [5, 6, 7, 0, 4, 2, 1, 8, 3, 9],\n",
       "       [4, 0, 7, 9, 5, 6, 1, 2, 3, 8],\n",
       "       [8, 5, 7, 3, 0, 2, 9, 1, 6, 4],\n",
       "       [0, 3, 4, 1, 2, 5, 8, 6, 7, 9],\n",
       "       [8, 9, 0, 1, 2, 7, 5, 6, 3, 4],\n",
       "       [2, 6, 7, 9, 4, 0, 8, 3, 5, 1],\n",
       "       [5, 0, 4, 7, 3, 1, 9, 2, 6, 8],\n",
       "       [9, 7, 6, 8, 2, 4, 3, 5, 1, 0],\n",
       "       [4, 9, 5, 1, 8, 0, 6, 7, 2, 3],\n",
       "       [2, 3, 6, 1, 0, 4, 8, 5, 9, 7]])"
      ]
     },
     "execution_count": 6,
     "metadata": {},
     "output_type": "execute_result"
    }
   ],
   "source": [
    "pop"
   ]
  },
  {
   "cell_type": "code",
   "execution_count": 7,
   "metadata": {},
   "outputs": [
    {
     "data": {
      "text/plain": [
       "array([[0, 1, 2, 3, 4],\n",
       "       [0, 1, 2, 3, 4],\n",
       "       [4, 5, 6, 7, 8],\n",
       "       [1, 2, 3, 4, 5],\n",
       "       [3, 4, 5, 6, 7],\n",
       "       [4, 5, 6, 7, 8],\n",
       "       [4, 5, 6, 7, 8],\n",
       "       [4, 5, 6, 7, 8],\n",
       "       [0, 1, 2, 3, 4],\n",
       "       [0, 1, 2, 3, 4],\n",
       "       [0, 1, 2, 3, 4],\n",
       "       [0, 1, 2, 3, 4]])"
      ]
     },
     "execution_count": 7,
     "metadata": {},
     "output_type": "execute_result"
    }
   ],
   "source": [
    "seq = vecArange(seq_start,half_len)\n",
    "seq"
   ]
  },
  {
   "cell_type": "code",
   "execution_count": 8,
   "metadata": {
    "scrolled": false
   },
   "outputs": [
    {
     "data": {
      "text/plain": [
       "array([[8, 9, 0, 5, 3],\n",
       "       [2, 4, 7, 5, 6],\n",
       "       [4, 2, 1, 8, 3],\n",
       "       [0, 7, 9, 5, 6],\n",
       "       [3, 0, 2, 9, 1],\n",
       "       [2, 5, 8, 6, 7],\n",
       "       [2, 7, 5, 6, 3],\n",
       "       [4, 0, 8, 3, 5],\n",
       "       [5, 0, 4, 7, 3],\n",
       "       [9, 7, 6, 8, 2],\n",
       "       [4, 9, 5, 1, 8],\n",
       "       [2, 3, 6, 1, 0]])"
      ]
     },
     "execution_count": 8,
     "metadata": {},
     "output_type": "execute_result"
    }
   ],
   "source": [
    "subseq = pop[np.arange(pop.shape[0])[:, None], seq]\n",
    "subseq"
   ]
  },
  {
   "cell_type": "markdown",
   "metadata": {},
   "source": [
    "## Remove subsequences from other parents"
   ]
  },
  {
   "cell_type": "code",
   "execution_count": 9,
   "metadata": {
    "scrolled": true
   },
   "outputs": [
    {
     "data": {
      "text/plain": [
       "array([[2, 3, 6, 1, 0, 4, 8, 5, 9, 7],\n",
       "       [8, 9, 0, 5, 3, 1, 7, 4, 2, 6],\n",
       "       [2, 4, 7, 5, 6, 3, 8, 1, 9, 0],\n",
       "       [5, 6, 7, 0, 4, 2, 1, 8, 3, 9],\n",
       "       [4, 0, 7, 9, 5, 6, 1, 2, 3, 8],\n",
       "       [8, 5, 7, 3, 0, 2, 9, 1, 6, 4],\n",
       "       [0, 3, 4, 1, 2, 5, 8, 6, 7, 9],\n",
       "       [8, 9, 0, 1, 2, 7, 5, 6, 3, 4],\n",
       "       [2, 6, 7, 9, 4, 0, 8, 3, 5, 1],\n",
       "       [5, 0, 4, 7, 3, 1, 9, 2, 6, 8],\n",
       "       [9, 7, 6, 8, 2, 4, 3, 5, 1, 0],\n",
       "       [4, 9, 5, 1, 8, 0, 6, 7, 2, 3]])"
      ]
     },
     "execution_count": 9,
     "metadata": {},
     "output_type": "execute_result"
    }
   ],
   "source": [
    "pop_roll = np.roll(pop,1,axis=0)\n",
    "pop_roll"
   ]
  },
  {
   "cell_type": "code",
   "execution_count": 10,
   "metadata": {},
   "outputs": [
    {
     "name": "stdout",
     "output_type": "stream",
     "text": [
      "[2 4 7 5 6 3 8 1 9 0]\n",
      "[8 9 0 3 1 2 4 7 5 6]\n"
     ]
    }
   ],
   "source": [
    "children = np.empty((pop.shape[0],str_len),int)\n",
    "for n, seq in enumerate(subseq):\n",
    "    child = pop_roll[n][np.isin(pop_roll[n],seq,invert=True)]\n",
    "    child = np.insert(seq,seq_start[n],child)\n",
    "    children[n] = child\n",
    "print(pop[1])\n",
    "# print(pop_roll[1])\n",
    "print(children[1])"
   ]
  },
  {
   "cell_type": "markdown",
   "metadata": {},
   "source": [
    "# Sequence Selection with combined parent arrays"
   ]
  },
  {
   "cell_type": "code",
   "execution_count": 11,
   "metadata": {},
   "outputs": [
    {
     "data": {
      "text/plain": [
       "array([[[8, 9, 0, 5, 3, 1, 7, 4, 2, 6],\n",
       "        [2, 3, 6, 1, 0, 4, 8, 5, 9, 7]],\n",
       "\n",
       "       [[2, 4, 7, 5, 6, 3, 8, 1, 9, 0],\n",
       "        [8, 9, 0, 5, 3, 1, 7, 4, 2, 6]],\n",
       "\n",
       "       [[5, 6, 7, 0, 4, 2, 1, 8, 3, 9],\n",
       "        [2, 4, 7, 5, 6, 3, 8, 1, 9, 0]],\n",
       "\n",
       "       [[4, 0, 7, 9, 5, 6, 1, 2, 3, 8],\n",
       "        [5, 6, 7, 0, 4, 2, 1, 8, 3, 9]],\n",
       "\n",
       "       [[8, 5, 7, 3, 0, 2, 9, 1, 6, 4],\n",
       "        [4, 0, 7, 9, 5, 6, 1, 2, 3, 8]],\n",
       "\n",
       "       [[0, 3, 4, 1, 2, 5, 8, 6, 7, 9],\n",
       "        [8, 5, 7, 3, 0, 2, 9, 1, 6, 4]],\n",
       "\n",
       "       [[8, 9, 0, 1, 2, 7, 5, 6, 3, 4],\n",
       "        [0, 3, 4, 1, 2, 5, 8, 6, 7, 9]],\n",
       "\n",
       "       [[2, 6, 7, 9, 4, 0, 8, 3, 5, 1],\n",
       "        [8, 9, 0, 1, 2, 7, 5, 6, 3, 4]],\n",
       "\n",
       "       [[5, 0, 4, 7, 3, 1, 9, 2, 6, 8],\n",
       "        [2, 6, 7, 9, 4, 0, 8, 3, 5, 1]],\n",
       "\n",
       "       [[9, 7, 6, 8, 2, 4, 3, 5, 1, 0],\n",
       "        [5, 0, 4, 7, 3, 1, 9, 2, 6, 8]],\n",
       "\n",
       "       [[4, 9, 5, 1, 8, 0, 6, 7, 2, 3],\n",
       "        [9, 7, 6, 8, 2, 4, 3, 5, 1, 0]],\n",
       "\n",
       "       [[2, 3, 6, 1, 0, 4, 8, 5, 9, 7],\n",
       "        [4, 9, 5, 1, 8, 0, 6, 7, 2, 3]]])"
      ]
     },
     "execution_count": 11,
     "metadata": {},
     "output_type": "execute_result"
    }
   ],
   "source": [
    "parents = np.concatenate((pop,pop_roll),axis=1).reshape(-1,2,str_len)\n",
    "parents"
   ]
  },
  {
   "cell_type": "code",
   "execution_count": 12,
   "metadata": {},
   "outputs": [
    {
     "data": {
      "text/plain": [
       "array([[[8, 9, 0, 5, 3, 1, 7, 4, 2, 6],\n",
       "        [2, 3, 6, 1, 0, 4, 8, 5, 9, 7]],\n",
       "\n",
       "       [[2, 4, 7, 5, 6, 3, 8, 1, 9, 0],\n",
       "        [8, 9, 0, 5, 3, 1, 7, 4, 2, 6]],\n",
       "\n",
       "       [[5, 6, 7, 0, 4, 2, 1, 8, 3, 9],\n",
       "        [2, 4, 7, 5, 6, 3, 8, 1, 9, 0]],\n",
       "\n",
       "       [[4, 0, 7, 9, 5, 6, 1, 2, 3, 8],\n",
       "        [5, 6, 7, 0, 4, 2, 1, 8, 3, 9]],\n",
       "\n",
       "       [[8, 5, 7, 3, 0, 2, 9, 1, 6, 4],\n",
       "        [4, 0, 7, 9, 5, 6, 1, 2, 3, 8]],\n",
       "\n",
       "       [[0, 3, 4, 1, 2, 5, 8, 6, 7, 9],\n",
       "        [8, 5, 7, 3, 0, 2, 9, 1, 6, 4]],\n",
       "\n",
       "       [[8, 9, 0, 1, 2, 7, 5, 6, 3, 4],\n",
       "        [0, 3, 4, 1, 2, 5, 8, 6, 7, 9]],\n",
       "\n",
       "       [[2, 6, 7, 9, 4, 0, 8, 3, 5, 1],\n",
       "        [8, 9, 0, 1, 2, 7, 5, 6, 3, 4]],\n",
       "\n",
       "       [[5, 0, 4, 7, 3, 1, 9, 2, 6, 8],\n",
       "        [2, 6, 7, 9, 4, 0, 8, 3, 5, 1]],\n",
       "\n",
       "       [[9, 7, 6, 8, 2, 4, 3, 5, 1, 0],\n",
       "        [5, 0, 4, 7, 3, 1, 9, 2, 6, 8]],\n",
       "\n",
       "       [[4, 9, 5, 1, 8, 0, 6, 7, 2, 3],\n",
       "        [9, 7, 6, 8, 2, 4, 3, 5, 1, 0]],\n",
       "\n",
       "       [[2, 3, 6, 1, 0, 4, 8, 5, 9, 7],\n",
       "        [4, 9, 5, 1, 8, 0, 6, 7, 2, 3]]])"
      ]
     },
     "execution_count": 12,
     "metadata": {},
     "output_type": "execute_result"
    }
   ],
   "source": [
    "parents"
   ]
  },
  {
   "cell_type": "code",
   "execution_count": 13,
   "metadata": {},
   "outputs": [
    {
     "data": {
      "text/plain": [
       "array([2, 2, 2, 2, 2, 2, 3, 3, 2, 2, 1, 1, 2, 2, 4, 4, 0, 0, 0, 0, 1, 1,\n",
       "       4, 4])"
      ]
     },
     "execution_count": 13,
     "metadata": {},
     "output_type": "execute_result"
    }
   ],
   "source": [
    "seq_start = np.random.randint(0,half_len,pop_size).repeat(2) #repeat is so pairs of parents have same subseq\n",
    "seq_start"
   ]
  },
  {
   "cell_type": "code",
   "execution_count": 14,
   "metadata": {},
   "outputs": [
    {
     "data": {
      "text/plain": [
       "array([[[2, 3, 4, 5, 6],\n",
       "        [2, 3, 4, 5, 6]],\n",
       "\n",
       "       [[2, 3, 4, 5, 6],\n",
       "        [2, 3, 4, 5, 6]],\n",
       "\n",
       "       [[2, 3, 4, 5, 6],\n",
       "        [2, 3, 4, 5, 6]],\n",
       "\n",
       "       [[3, 4, 5, 6, 7],\n",
       "        [3, 4, 5, 6, 7]],\n",
       "\n",
       "       [[2, 3, 4, 5, 6],\n",
       "        [2, 3, 4, 5, 6]],\n",
       "\n",
       "       [[1, 2, 3, 4, 5],\n",
       "        [1, 2, 3, 4, 5]],\n",
       "\n",
       "       [[2, 3, 4, 5, 6],\n",
       "        [2, 3, 4, 5, 6]],\n",
       "\n",
       "       [[4, 5, 6, 7, 8],\n",
       "        [4, 5, 6, 7, 8]],\n",
       "\n",
       "       [[0, 1, 2, 3, 4],\n",
       "        [0, 1, 2, 3, 4]],\n",
       "\n",
       "       [[0, 1, 2, 3, 4],\n",
       "        [0, 1, 2, 3, 4]],\n",
       "\n",
       "       [[1, 2, 3, 4, 5],\n",
       "        [1, 2, 3, 4, 5]],\n",
       "\n",
       "       [[4, 5, 6, 7, 8],\n",
       "        [4, 5, 6, 7, 8]]])"
      ]
     },
     "execution_count": 14,
     "metadata": {},
     "output_type": "execute_result"
    }
   ],
   "source": [
    "parent_seq = vecArange(seq_start,half_len).reshape(-1,2,half_len)\n",
    "parent_seq"
   ]
  },
  {
   "cell_type": "code",
   "execution_count": 35,
   "metadata": {},
   "outputs": [
    {
     "name": "stdout",
     "output_type": "stream",
     "text": [
      "[8 9 0 5 3 1 7 4 2 6]\n",
      "[2 3 6 1 0 4 8 5 9 7]\n"
     ]
    }
   ],
   "source": [
    "p1 = parents[0][0]\n",
    "p2 = parents[0][1]\n",
    "print(p1,p2,sep=\"\\n\")"
   ]
  },
  {
   "cell_type": "code",
   "execution_count": 24,
   "metadata": {},
   "outputs": [],
   "source": [
    "@njit(parallel=True)\n",
    "def in1d(array, remove):\n",
    "    out = np.empty(array.shape[0], dtype=np.bool_)\n",
    "    remove = set(remove)\n",
    "    for i in prange(array.shape[0]):\n",
    "        if array[i] in remove:\n",
    "            out[i] = False\n",
    "        else:\n",
    "            out[i] = True\n",
    "    return out"
   ]
  },
  {
   "cell_type": "code",
   "execution_count": 95,
   "metadata": {},
   "outputs": [],
   "source": [
    "def roll(arr, num, fill_value=-1):\n",
    "    result = np.empty_like(arr)\n",
    "    if num > 0:\n",
    "        result[:num] = fill_value\n",
    "        result[num:] = arr[:-num]\n",
    "    elif num < 0:\n",
    "        result[num:] = fill_value\n",
    "        result[:num] = arr[-num:]\n",
    "    else:\n",
    "        result = arr\n",
    "    return result"
   ]
  },
  {
   "cell_type": "code",
   "execution_count": 99,
   "metadata": {},
   "outputs": [],
   "source": [
    "@njit(parallel=False, fastmath=True)\n",
    "def order_xover_2par(p1, p2, slice):\n",
    "    inv_slice = in1d(np.arange(p1.size),slice)\n",
    "    child = np.zeros_like(p1)\n",
    "    child[slice] = p1[slice]\n",
    "    p2_diff = in1d(p2,child[slice])\n",
    "    child[inv_slice] = p2[p2_diff]\n",
    "    return child"
   ]
  },
  {
   "cell_type": "code",
   "execution_count": 40,
   "metadata": {},
   "outputs": [
    {
     "data": {
      "text/plain": [
       "array([3, 4, 5, 6, 7])"
      ]
     },
     "execution_count": 40,
     "metadata": {},
     "output_type": "execute_result"
    }
   ],
   "source": [
    "start = np.random.randint(1, p1.size // 2)\n",
    "slice = np.arange(start, start + p1.size // 2)\n",
    "slice"
   ]
  },
  {
   "cell_type": "code",
   "execution_count": 98,
   "metadata": {},
   "outputs": [
    {
     "name": "stdout",
     "output_type": "stream",
     "text": [
      "[8 9 0 5 3 1 7 4 2 6]\n",
      "[2 3 6 1 0 4 8 5 9 7]\n",
      "None\n",
      "child from p1:  [0 0 0 5 3 1 7 4 0 0]\n",
      "p2 with mask:  [2 6 0 8 9]\n",
      "child:  [2 6 0 5 3 1 7 4 8 9]\n"
     ]
    },
    {
     "data": {
      "text/plain": [
       "array([2, 6, 0, 5, 3, 1, 7, 4, 8, 9])"
      ]
     },
     "execution_count": 98,
     "metadata": {},
     "output_type": "execute_result"
    }
   ],
   "source": [
    "print(print(p1,p2,sep=\"\\n\"))\n",
    "order_xover_2par(p1,p2,slice)"
   ]
  },
  {
   "cell_type": "code",
   "execution_count": null,
   "metadata": {},
   "outputs": [],
   "source": []
  }
 ],
 "metadata": {
  "kernelspec": {
   "display_name": "Python 3",
   "language": "python",
   "name": "python3"
  },
  "language_info": {
   "codemirror_mode": {
    "name": "ipython",
    "version": 3
   },
   "file_extension": ".py",
   "mimetype": "text/x-python",
   "name": "python",
   "nbconvert_exporter": "python",
   "pygments_lexer": "ipython3",
   "version": "3.6.5"
  }
 },
 "nbformat": 4,
 "nbformat_minor": 2
}
